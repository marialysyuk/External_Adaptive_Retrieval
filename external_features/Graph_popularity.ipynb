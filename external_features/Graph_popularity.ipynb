{
 "cells": [
  {
   "cell_type": "code",
   "execution_count": 65,
   "id": "dc67a7e5-e416-434e-abd7-0f27c214bee1",
   "metadata": {},
   "outputs": [],
   "source": [
    "import requests\n",
    "\n",
    "def run_query_subject(entity_idx):\n",
    "    \n",
    "    url = \"https://query.wikidata.org/sparql\"\n",
    "    query = \"\"\"\n",
    "\n",
    "   SELECT (COUNT(*) as ?Triples) WHERE {\n",
    "\n",
    "   ?subject ?relation wd:<ENTITY>.} \n",
    "        \"\"\".replace(\n",
    "            \"<ENTITY>\", entity_idx)\n",
    "     \n",
    "    request = requests.get(url, params={\"format\": \"json\", \"query\": query})\n",
    "    data = request.json()\n",
    "    answer = int(data[\"results\"]['bindings'][0]['Triples']['value'])\n",
    "    return answer"
   ]
  },
  {
   "cell_type": "code",
   "execution_count": 66,
   "id": "6e0dcc91-d413-4e9a-b0da-2e0b236fc231",
   "metadata": {},
   "outputs": [],
   "source": [
    "def run_query_object(entity_idx):\n",
    "    \n",
    "    url = \"https://query.wikidata.org/sparql\"\n",
    "    query = \"\"\"\n",
    "\n",
    "   SELECT (COUNT(*) as ?Triples) WHERE {\n",
    "\n",
    "   wd:<ENTITY> ?relation ?object .} \n",
    "        \"\"\".replace(\n",
    "            \"<ENTITY>\", entity_idx)\n",
    "     \n",
    "    request = requests.get(url, params={\"format\": \"json\", \"query\": query})\n",
    "    data = request.json()\n",
    "    answer = int(data[\"results\"]['bindings'][0]['Triples']['value'])\n",
    "    return answer"
   ]
  },
  {
   "cell_type": "code",
   "execution_count": 67,
   "id": "347024d9-a720-4e6d-9c08-1d20b59b46c2",
   "metadata": {},
   "outputs": [],
   "source": [
    "import pandas as pd\n",
    "from tqdm import tqdm\n",
    "import time"
   ]
  },
  {
   "cell_type": "code",
   "execution_count": 68,
   "id": "ff826ef1-6b71-44fe-8b38-cdb8354f9655",
   "metadata": {},
   "outputs": [],
   "source": [
    "data = pd.read_csv(\"data/adaptive_rag_musique/train.csv\")"
   ]
  },
  {
   "cell_type": "code",
   "execution_count": null,
   "id": "76f52193-c8f2-4bd0-b37b-cc705095aa77",
   "metadata": {},
   "outputs": [
    {
     "name": "stderr",
     "output_type": "stream",
     "text": [
      " 13%|█▎        | 65/500 [02:46<17:54,  2.47s/it]"
     ]
    }
   ],
   "source": [
    "for i in tqdm(range(len(data))):\n",
    "\n",
    "    if pd.notna(data.loc[i, 'bela_base_ents']):\n",
    "        #and len(data.loc[i, 'bela_base_ents'].split(', ')) != len(ast.literal_eval(data.loc[i, 'bela_ents_graph_subj']))\n",
    "        cur_ents = data.loc[i, 'bela_base_ents'].split(', ')\n",
    "        cur_ents_subj = []\n",
    "        for j in range(len(cur_ents)):\n",
    "            time.sleep(1)\n",
    "            cur_ent = cur_ents[j]\n",
    "            try:\n",
    "                cur_ents_subj.append(run_query_subject(cur_ent))\n",
    "            except:\n",
    "                continue\n",
    "        \n",
    "        \n",
    "        data.loc[i, 'bela_ents_graph_subj'] = str(cur_ents_subj)"
   ]
  },
  {
   "cell_type": "code",
   "execution_count": null,
   "id": "b7ff18b8-5c06-4777-9b01-c5e20db84d22",
   "metadata": {},
   "outputs": [
    {
     "name": "stderr",
     "output_type": "stream",
     "text": [
      " 95%|█████████▌| 475/500 [21:43<01:02,  2.48s/it]"
     ]
    }
   ],
   "source": [
    "for i in tqdm(range(len(data))):\n",
    "\n",
    "    if pd.notna(data.loc[i, 'bela_base_ents']):\n",
    "        cur_ents = data.loc[i, 'bela_base_ents'].split(', ')\n",
    "        cur_ents_obj = []\n",
    "        for j in range(len(cur_ents)):\n",
    "            time.sleep(1)\n",
    "            cur_ent = cur_ents[j]\n",
    "            try:\n",
    "                cur_ents_obj.append(run_query_object(cur_ent))\n",
    "            except:\n",
    "                continue\n",
    "        data.loc[i, 'bela_ents_graph_obj'] = str(cur_ents_obj)"
   ]
  },
  {
   "cell_type": "code",
   "execution_count": null,
   "id": "f2c4642f-b5c2-44b1-8bd3-96081e2b759c",
   "metadata": {},
   "outputs": [],
   "source": [
    "data.to_csv(\"data/adaptive_rag_musique/train.csv\", index = False)"
   ]
  }
 ],
 "metadata": {
  "kernelspec": {
   "display_name": "Python [conda env:.mlspace-adaptiverag]",
   "language": "python",
   "name": "conda-env-.mlspace-adaptiverag-py"
  },
  "language_info": {
   "codemirror_mode": {
    "name": "ipython",
    "version": 3
   },
   "file_extension": ".py",
   "mimetype": "text/x-python",
   "name": "python",
   "nbconvert_exporter": "python",
   "pygments_lexer": "ipython3",
   "version": "3.8.20"
  }
 },
 "nbformat": 4,
 "nbformat_minor": 5
}
