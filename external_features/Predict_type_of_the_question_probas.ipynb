{
 "cells": [
  {
   "cell_type": "code",
   "execution_count": 1,
   "id": "7198ec27-bad6-4040-8abf-6b1724f0da6f",
   "metadata": {},
   "outputs": [
    {
     "name": "stderr",
     "output_type": "stream",
     "text": [
      "/home/jovyan/.mlspace/envs/adaptiverag/lib/python3.8/site-packages/tqdm/auto.py:21: TqdmWarning: IProgress not found. Please update jupyter and ipywidgets. See https://ipywidgets.readthedocs.io/en/stable/user_install.html\n",
      "  from .autonotebook import tqdm as notebook_tqdm\n"
     ]
    }
   ],
   "source": [
    "from simpletransformers.classification import ClassificationModel\n",
    "model = ClassificationModel(\"bert\", 'Type_of_the_question/outputs', use_cuda=True)"
   ]
  },
  {
   "cell_type": "code",
   "execution_count": 2,
   "id": "05a9ff91-a5fd-4a28-af07-a325d6199874",
   "metadata": {},
   "outputs": [],
   "source": [
    "import pandas as pd\n",
    "import numpy as np\n",
    "from scipy.special import softmax\n",
    "\n",
    "path = \"data/adaptive_rag_musique/train.csv\"\n",
    "cur_data = pd.read_csv(path)"
   ]
  },
  {
   "cell_type": "code",
   "execution_count": 3,
   "id": "d2f2b793-6665-4b4e-82cf-729c01bb43c2",
   "metadata": {},
   "outputs": [],
   "source": [
    "eval_data = []\n",
    "for i in range(len(cur_data)):\n",
    "    cur_test = [cur_data.loc[i, 'question_text'], 1]\n",
    "    eval_data.append(cur_test)\n",
    "\n",
    "eval_df = pd.DataFrame(eval_data)\n",
    "eval_df.columns = [\"text\", \"labels\"]"
   ]
  },
  {
   "cell_type": "code",
   "execution_count": 4,
   "id": "7ff84863-2f49-4069-b578-f2c8090b25cd",
   "metadata": {},
   "outputs": [
    {
     "name": "stderr",
     "output_type": "stream",
     "text": [
      "100%|██████████| 1/1 [00:00<00:00,  3.03it/s]\n",
      "Running Evaluation:   0%|          | 0/5 [00:00<?, ?it/s]/home/jovyan/.mlspace/envs/adaptiverag/lib/python3.8/site-packages/simpletransformers/classification/classification_model.py:1505: FutureWarning: `torch.cuda.amp.autocast(args...)` is deprecated. Please use `torch.amp.autocast('cuda', args...)` instead.\n",
      "  with amp.autocast():\n",
      "Running Evaluation: 100%|██████████| 5/5 [00:00<00:00,  9.83it/s]\n"
     ]
    }
   ],
   "source": [
    "result, model_outputs, wrong_predictions = model.eval_model(eval_df)"
   ]
  },
  {
   "cell_type": "code",
   "execution_count": 5,
   "id": "0b88e41f-ad34-44fe-a30e-8a7b2e76639f",
   "metadata": {},
   "outputs": [],
   "source": [
    "for i in range(len(eval_df)):\n",
    "    \n",
    "    eval_df.loc[i, 'prob_generic'] = softmax(model_outputs[i])[0]\n",
    "    eval_df.loc[i, 'prob_ordinal'] = softmax(model_outputs[i])[1]\n",
    "    eval_df.loc[i, 'prob_intersection'] = softmax(model_outputs[i])[2]\n",
    "    eval_df.loc[i, 'prob_superlative'] = softmax(model_outputs[i])[3]\n",
    "    eval_df.loc[i, 'prob_yesno'] = softmax(model_outputs[i])[4]\n",
    "    eval_df.loc[i, 'prob_comparative'] = softmax(model_outputs[i])[5]\n",
    "    eval_df.loc[i, 'prob_multihop'] = softmax(model_outputs[i])[6]\n",
    "    eval_df.loc[i, 'prob_difference'] = softmax(model_outputs[i])[7]\n",
    "    eval_df.loc[i, 'prob_count'] = softmax(model_outputs[i])[8]"
   ]
  },
  {
   "cell_type": "code",
   "execution_count": 6,
   "id": "682cc78b-0f97-43d9-80e7-495859e1f3ab",
   "metadata": {},
   "outputs": [],
   "source": [
    "cur_data['prob_generic'] = eval_df['prob_generic']\n",
    "cur_data['prob_ordinal'] = eval_df['prob_ordinal']\n",
    "cur_data['prob_intersection'] = eval_df['prob_intersection']\n",
    "cur_data['prob_superlative'] = eval_df['prob_superlative']\n",
    "cur_data['prob_yesno'] = eval_df['prob_yesno']\n",
    "cur_data['prob_comparative'] = eval_df['prob_comparative']\n",
    "cur_data['prob_multihop'] = eval_df['prob_multihop']\n",
    "cur_data['prob_difference'] = eval_df['prob_difference']\n",
    "cur_data['prob_count'] = eval_df['prob_count']"
   ]
  },
  {
   "cell_type": "code",
   "execution_count": 7,
   "id": "e472c3f0-07bd-46c9-9acd-adfc459cb26b",
   "metadata": {},
   "outputs": [
    {
     "data": {
      "text/html": [
       "<div>\n",
       "<style scoped>\n",
       "    .dataframe tbody tr th:only-of-type {\n",
       "        vertical-align: middle;\n",
       "    }\n",
       "\n",
       "    .dataframe tbody tr th {\n",
       "        vertical-align: top;\n",
       "    }\n",
       "\n",
       "    .dataframe thead th {\n",
       "        text-align: right;\n",
       "    }\n",
       "</style>\n",
       "<table border=\"1\" class=\"dataframe\">\n",
       "  <thead>\n",
       "    <tr style=\"text-align: right;\">\n",
       "      <th></th>\n",
       "      <th>qid</th>\n",
       "      <th>question_text</th>\n",
       "      <th>context</th>\n",
       "      <th>answer_objects</th>\n",
       "      <th>reference</th>\n",
       "      <th>rag_one_retrieve</th>\n",
       "      <th>no_retrieve</th>\n",
       "      <th>bela_base</th>\n",
       "      <th>bela_base_ents</th>\n",
       "      <th>bela_base_ents_lbls</th>\n",
       "      <th>...</th>\n",
       "      <th>complexity</th>\n",
       "      <th>prob_generic</th>\n",
       "      <th>prob_ordinal</th>\n",
       "      <th>prob_intersection</th>\n",
       "      <th>prob_superlative</th>\n",
       "      <th>prob_yesno</th>\n",
       "      <th>prob_comparative</th>\n",
       "      <th>prob_multihop</th>\n",
       "      <th>prob_difference</th>\n",
       "      <th>prob_count</th>\n",
       "    </tr>\n",
       "  </thead>\n",
       "  <tbody>\n",
       "    <tr>\n",
       "      <th>0</th>\n",
       "      <td>4hop2__161602_474028_88460_21063</td>\n",
       "      <td>There exists a country A that forms a boundary...</td>\n",
       "      <td>[{'idx': 0, 'is_supporting': False, 'paragraph...</td>\n",
       "      <td>[{'date': {'day': '', 'month': '', 'year': ''}...</td>\n",
       "      <td>['Yangon Stock Exchange Joint Venture Co. Ltd']</td>\n",
       "      <td>Shanghai Stock Exchange</td>\n",
       "      <td>Lao Securities Exchange</td>\n",
       "      <td>[{'offsets': [15, 71, 140, 140, 142], 'lengths...</td>\n",
       "      <td>Q47507606, Q5292119, Q568540, Q16365246</td>\n",
       "      <td>2020 AFC U-23 Championship, A Don, country A, A</td>\n",
       "      <td>...</td>\n",
       "      <td>multihop</td>\n",
       "      <td>0.000148</td>\n",
       "      <td>0.000329</td>\n",
       "      <td>0.008584</td>\n",
       "      <td>0.000221</td>\n",
       "      <td>0.000107</td>\n",
       "      <td>0.0001</td>\n",
       "      <td>0.990249</td>\n",
       "      <td>0.000128</td>\n",
       "      <td>0.000135</td>\n",
       "    </tr>\n",
       "  </tbody>\n",
       "</table>\n",
       "<p>1 rows × 24 columns</p>\n",
       "</div>"
      ],
      "text/plain": [
       "                                qid  \\\n",
       "0  4hop2__161602_474028_88460_21063   \n",
       "\n",
       "                                       question_text  \\\n",
       "0  There exists a country A that forms a boundary...   \n",
       "\n",
       "                                             context  \\\n",
       "0  [{'idx': 0, 'is_supporting': False, 'paragraph...   \n",
       "\n",
       "                                      answer_objects  \\\n",
       "0  [{'date': {'day': '', 'month': '', 'year': ''}...   \n",
       "\n",
       "                                         reference         rag_one_retrieve  \\\n",
       "0  ['Yangon Stock Exchange Joint Venture Co. Ltd']  Shanghai Stock Exchange   \n",
       "\n",
       "               no_retrieve                                          bela_base  \\\n",
       "0  Lao Securities Exchange  [{'offsets': [15, 71, 140, 140, 142], 'lengths...   \n",
       "\n",
       "                            bela_base_ents  \\\n",
       "0  Q47507606, Q5292119, Q568540, Q16365246   \n",
       "\n",
       "                               bela_base_ents_lbls  ... complexity  \\\n",
       "0  2020 AFC U-23 Championship, A Don, country A, A  ...   multihop   \n",
       "\n",
       "  prob_generic prob_ordinal prob_intersection prob_superlative  prob_yesno  \\\n",
       "0     0.000148     0.000329          0.008584         0.000221    0.000107   \n",
       "\n",
       "   prob_comparative  prob_multihop  prob_difference  prob_count  \n",
       "0            0.0001       0.990249         0.000128    0.000135  \n",
       "\n",
       "[1 rows x 24 columns]"
      ]
     },
     "execution_count": 7,
     "metadata": {},
     "output_type": "execute_result"
    }
   ],
   "source": [
    "cur_data.head(n=1)"
   ]
  },
  {
   "cell_type": "code",
   "execution_count": 8,
   "id": "05063401-4d5d-495f-bb43-b97a14d22b91",
   "metadata": {},
   "outputs": [],
   "source": [
    "cur_data.to_csv(path, index = False)"
   ]
  }
 ],
 "metadata": {
  "kernelspec": {
   "display_name": "Python [conda env:.mlspace-adaptiverag]",
   "language": "python",
   "name": "conda-env-.mlspace-adaptiverag-py"
  },
  "language_info": {
   "codemirror_mode": {
    "name": "ipython",
    "version": 3
   },
   "file_extension": ".py",
   "mimetype": "text/x-python",
   "name": "python",
   "nbconvert_exporter": "python",
   "pygments_lexer": "ipython3",
   "version": "3.8.20"
  }
 },
 "nbformat": 4,
 "nbformat_minor": 5
}
