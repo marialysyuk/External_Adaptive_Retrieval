{
 "cells": [
  {
   "cell_type": "code",
   "execution_count": 2,
   "id": "66db64f9",
   "metadata": {},
   "outputs": [],
   "source": [
    "import requests\n",
    "import pandas as pd\n",
    "from tqdm import tqdm\n",
    "import time"
   ]
  },
  {
   "cell_type": "code",
   "execution_count": 41,
   "id": "f16855bf",
   "metadata": {},
   "outputs": [],
   "source": [
    "def wikimedia_pagereviews(label):\n",
    "    \n",
    "    label = label[0].upper()+label[1:]\n",
    "    \n",
    "    if '/' in label:\n",
    "        test_lbl = label.replace('/', '%2F')\n",
    "    elif '?' in label:\n",
    "        test_lbl = label.replace('?', '%3F')\n",
    "    else:\n",
    "        test_lbl = '_'.join(label.split(' '))\n",
    "    url = \"https://wikimedia.org/api/rest_v1/metrics/pageviews/per-article/en.wikipedia.org/all-access/all-agents/\"+\\\n",
    "    '{}'.format(test_lbl)+\\\n",
    "    \"/monthly/20240101/20240131\"\n",
    "    headers = {\n",
    "    'accept': 'application/json',\n",
    "      'Authorization': 'your key',\n",
    "  'User-Agent': 'your email'}\n",
    "\n",
    "    response = requests.get(\n",
    "        url = url,\n",
    "        headers=headers,\n",
    "    )   \n",
    "    \n",
    "    return response.json()['items'][0]['views']"
   ]
  }
 ],
 "metadata": {
  "kernelspec": {
   "display_name": "Python [conda env:.mlspace-konstuktor_lysyuk]",
   "language": "python",
   "name": "conda-env-.mlspace-konstuktor_lysyuk-py"
  },
  "language_info": {
   "codemirror_mode": {
    "name": "ipython",
    "version": 3
   },
   "file_extension": ".py",
   "mimetype": "text/x-python",
   "name": "python",
   "nbconvert_exporter": "python",
   "pygments_lexer": "ipython3",
   "version": "3.11.8"
  }
 },
 "nbformat": 4,
 "nbformat_minor": 5
}
