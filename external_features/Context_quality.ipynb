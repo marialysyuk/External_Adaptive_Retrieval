{
 "cells": [
  {
   "cell_type": "markdown",
   "id": "44691fb8-a02d-4aaa-97b5-c8ed41c6d3ce",
   "metadata": {},
   "source": [
    "### Calculating cross-encoder relevance scores"
   ]
  },
  {
   "cell_type": "code",
   "execution_count": 1,
   "id": "62a3dd82-b35d-488a-9453-c02cef194bd1",
   "metadata": {},
   "outputs": [],
   "source": [
    "import pandas as pd\n",
    "import ast\n",
    "path_my = \"data/adaptive_rag_2wikimultihopqa/test.csv\"\n",
    "data_my = pd.read_csv(path_my)"
   ]
  },
  {
   "cell_type": "code",
   "execution_count": 2,
   "id": "1fce17d3-3634-4566-a045-3543599c5bb3",
   "metadata": {},
   "outputs": [],
   "source": [
    "corpus = list(data_my['retrieved_contexts_oner_qa'].values)\n",
    "retrieved_docs = [ast.literal_eval(doc) for doc in corpus]\n",
    "queries = list(data_my['question_text'].values)"
   ]
  },
  {
   "cell_type": "code",
   "execution_count": 3,
   "id": "d826914b-c8f2-4b01-8589-d73099866336",
   "metadata": {},
   "outputs": [
    {
     "name": "stderr",
     "output_type": "stream",
     "text": [
      "/home/jovyan/.mlspace/envs/adaptiverag/lib/python3.8/site-packages/tqdm/auto.py:21: TqdmWarning: IProgress not found. Please update jupyter and ipywidgets. See https://ipywidgets.readthedocs.io/en/stable/user_install.html\n",
      "  from .autonotebook import tqdm as notebook_tqdm\n",
      "Some weights of BertForSequenceClassification were not initialized from the model checkpoint at bert-base-uncased and are newly initialized: ['classifier.bias', 'classifier.weight']\n",
      "You should probably TRAIN this model on a down-stream task to be able to use it for predictions and inference.\n"
     ]
    }
   ],
   "source": [
    "from transformers import BertTokenizer, BertForSequenceClassification\n",
    "cross_encoder_tokenizer =  BertTokenizer.from_pretrained('bert-base-uncased')\n",
    "cross_encoder_model = BertForSequenceClassification.from_pretrained('bert-base-uncased')"
   ]
  },
  {
   "cell_type": "code",
   "execution_count": 4,
   "id": "29ffebc9-8f89-4745-9561-7ed3902e460f",
   "metadata": {},
   "outputs": [
    {
     "name": "stderr",
     "output_type": "stream",
     "text": [
      "Some weights of BertForSequenceClassification were not initialized from the model checkpoint at bert-base-uncased and are newly initialized: ['classifier.bias', 'classifier.weight']\n",
      "You should probably TRAIN this model on a down-stream task to be able to use it for predictions and inference.\n"
     ]
    }
   ],
   "source": [
    "import torch\n",
    "import torch.nn.functional as F\n",
    "from transformers import BertTokenizer, BertForSequenceClassification\n",
    "from tqdm import tqdm\n",
    "import numpy as np\n",
    "\n",
    "# Load tokenizer and model\n",
    "cross_encoder_tokenizer = BertTokenizer.from_pretrained('bert-base-uncased')\n",
    "cross_encoder_model = BertForSequenceClassification.from_pretrained('bert-base-uncased')\n",
    "\n",
    "def cross_encode_batch(queries, docs, model, tokenizer):\n",
    "    \"\"\"\n",
    "    Compute relevance scores in batch for multiple (query, document) pairs.\n",
    "\n",
    "    Args:\n",
    "        queries: List of queries (one query per document in docs).\n",
    "        docs: List of documents.\n",
    "        model: Cross-encoder model.\n",
    "        tokenizer: Tokenizer for encoding input.\n",
    "    \n",
    "    Returns:\n",
    "        List of relevance scores.\n",
    "    \"\"\"\n",
    "    # Tokenize in batch\n",
    "    inputs = tokenizer(\n",
    "        queries, docs, \n",
    "        return_tensors=\"pt\", \n",
    "        truncation=True, \n",
    "        padding=True\n",
    "    )\n",
    "\n",
    "    # Move to GPU if available\n",
    "    device = torch.device(\"cuda\" if torch.cuda.is_available() else \"cpu\")\n",
    "    model.to(device)\n",
    "    inputs = {key: value.to(device) for key, value in inputs.items()}\n",
    "\n",
    "    # Perform inference\n",
    "    with torch.no_grad():\n",
    "        logits = model(**inputs).logits  # Shape: (batch_size, 2)\n",
    "\n",
    "    # Compute relevance scores (softmax on class 1)\n",
    "    relevance_scores = F.softmax(logits, dim=1)[:, 1].cpu().numpy()\n",
    "    \n",
    "    return relevance_scores"
   ]
  },
  {
   "cell_type": "code",
   "execution_count": 5,
   "id": "c2eb1a9b-b09d-4614-8697-86334845433c",
   "metadata": {},
   "outputs": [
    {
     "name": "stderr",
     "output_type": "stream",
     "text": [
      "100%|██████████| 500/500 [00:33<00:00, 14.83it/s]\n"
     ]
    }
   ],
   "source": [
    "# Process all queries and retrieved documents in batch\n",
    "relevance_scores = []\n",
    "\n",
    "for query, docs in tqdm(zip(queries, retrieved_docs), total=len(queries)):\n",
    "    batch_queries = [query] * len(docs)  # Duplicate query for each document\n",
    "    scores = cross_encode_batch(batch_queries, docs, cross_encoder_model, cross_encoder_tokenizer)\n",
    "    relevance_scores.append(scores)  # Append batch scores"
   ]
  },
  {
   "cell_type": "code",
   "execution_count": 6,
   "id": "4e7a6030-f57b-4fa0-bc67-b347877ba1ef",
   "metadata": {},
   "outputs": [
    {
     "name": "stderr",
     "output_type": "stream",
     "text": [
      "100%|██████████| 500/500 [00:00<00:00, 3251.64it/s]\n"
     ]
    }
   ],
   "source": [
    "for i in tqdm(range(len(data_my))):\n",
    "    \n",
    "    data_my.loc[i, 'context_relevance_min'] = np.min(relevance_scores[i])\n",
    "    data_my.loc[i, 'context_relevance_max'] = np.max(relevance_scores[i])\n",
    "    data_my.loc[i, 'context_relevance_mean'] = np.mean(relevance_scores[i])\n",
    "    data_my.loc[i, 'context_length'] = len(data_my.loc[i, 'retrieved_contexts_oner_qa'])"
   ]
  },
  {
   "cell_type": "code",
   "execution_count": 7,
   "id": "d7f06197-f236-4c36-9339-3ae2a78952a3",
   "metadata": {},
   "outputs": [],
   "source": [
    "data_my.to_csv(path_my, index = False)"
   ]
  },
  {
   "cell_type": "code",
   "execution_count": 112,
   "id": "28d59e9b-f463-4c94-af83-733252ebf563",
   "metadata": {},
   "outputs": [
    {
     "name": "stdout",
     "output_type": "stream",
     "text": [
      "0.3701108673810959\n",
      "0.03696990921758264\n",
      "0.3339402973651886\n",
      "0.620703935623169\n"
     ]
    }
   ],
   "source": [
    "print(np.mean(data_my['context_relevance_mean']))\n",
    "print(np.std(data_my['context_relevance_mean']))\n",
    "print(np.min(data_my['context_relevance_mean']))\n",
    "print(np.max(data_my['context_relevance_mean']))"
   ]
  }
 ],
 "metadata": {
  "kernelspec": {
   "display_name": "Python [conda env:.mlspace-adaptiverag]",
   "language": "python",
   "name": "conda-env-.mlspace-adaptiverag-py"
  },
  "language_info": {
   "codemirror_mode": {
    "name": "ipython",
    "version": 3
   },
   "file_extension": ".py",
   "mimetype": "text/x-python",
   "name": "python",
   "nbconvert_exporter": "python",
   "pygments_lexer": "ipython3",
   "version": "3.8.20"
  }
 },
 "nbformat": 4,
 "nbformat_minor": 5
}
