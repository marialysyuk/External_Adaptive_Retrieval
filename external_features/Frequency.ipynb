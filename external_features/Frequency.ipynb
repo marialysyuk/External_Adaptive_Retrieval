{
 "cells": [
  {
   "cell_type": "code",
   "execution_count": 1,
   "id": "c3861be5-ea73-4f8c-9827-b4e2a0e3bf29",
   "metadata": {},
   "outputs": [],
   "source": [
    "import pandas as pd\n",
    "# data = pd.read_csv(\"freq-59g-mwe62m.csv.gz\", nrows=100, compression='gzip')\n",
    "from tqdm import tqdm\n",
    "import gzip\n",
    "with gzip.open(\"freq-59g-mwe62m.csv.gz\", 'rb') as f:\n",
    "    header = f.readlines()"
   ]
  },
  {
   "cell_type": "code",
   "execution_count": 134,
   "id": "0c528f53-1b01-417b-b225-480d337abf37",
   "metadata": {},
   "outputs": [],
   "source": [
    "data = pd.read_csv(\"data/adaptive_rag_natural_questions/test.csv\")"
   ]
  },
  {
   "cell_type": "code",
   "execution_count": 127,
   "id": "106c5139-97e6-428f-9d7d-8582ac72914a",
   "metadata": {},
   "outputs": [
    {
     "data": {
      "text/plain": [
       "40287725"
      ]
     },
     "execution_count": 127,
     "metadata": {},
     "output_type": "execute_result"
    }
   ],
   "source": [
    "len(header)"
   ]
  },
  {
   "cell_type": "code",
   "execution_count": 4,
   "id": "23e72a08-6faa-48ba-b58f-097f32971b47",
   "metadata": {},
   "outputs": [
    {
     "name": "stderr",
     "output_type": "stream",
     "text": [
      "100%|██████████| 40287725/40287725 [01:01<00:00, 655154.21it/s]\n"
     ]
    }
   ],
   "source": [
    "dict_collocations = dict()\n",
    "\n",
    "for j in tqdm(range(len(header))):\n",
    "    try:\n",
    "        collocation = str(header[j]).split('\\\\t')[0].split(\"b'\")[1]\n",
    "        amount = int(str(header[j]).split('\\\\t')[1].split(\"\\\\n'\")[0])\n",
    "        dict_collocations[collocation] = amount\n",
    "    except:\n",
    "        continue"
   ]
  },
  {
   "cell_type": "code",
   "execution_count": 13,
   "id": "73d5ac49-df7c-43d1-a968-37144bd1ed15",
   "metadata": {},
   "outputs": [
    {
     "data": {
      "text/plain": [
       "2076359"
      ]
     },
     "execution_count": 13,
     "metadata": {},
     "output_type": "execute_result"
    }
   ],
   "source": [
    "len(header)-len(dict_collocations)"
   ]
  },
  {
   "cell_type": "code",
   "execution_count": 135,
   "id": "d66c56ea-9582-4970-af2f-e27d99a6b71f",
   "metadata": {},
   "outputs": [
    {
     "name": "stderr",
     "output_type": "stream",
     "text": [
      "100%|██████████| 500/500 [00:00<00:00, 7663.07it/s]\n"
     ]
    }
   ],
   "source": [
    "for i in tqdm(range(len(data))):\n",
    "    if pd.notna(data.loc[i, 'bela_base_ents_lbls']):\n",
    "        ents = data.loc[i, 'bela_base_ents_lbls'].split(\", \")\n",
    "        cur_pops = []\n",
    "        for j in range(len(ents)):\n",
    "            cur_ent = ents[j].replace(\"'s\", \"\").replace(\"?\", \"\").replace(\".\", \"\").replace(\",\", \"\")\n",
    "            if cur_ent in dict_collocations:\n",
    "                cur_pops.append(dict_collocations[cur_ent])\n",
    "        data.loc[i, 'frequency_exact'] = str(cur_pops)"
   ]
  },
  {
   "cell_type": "code",
   "execution_count": 136,
   "id": "3ab169d8-c4e7-4f55-a57f-80056348330c",
   "metadata": {},
   "outputs": [],
   "source": [
    "def all_collocations(question):\n",
    "    \n",
    "    words = question.split(\" \")\n",
    "    all_words = words.copy()\n",
    "    for i in range(len(words)-1):\n",
    "        all_words.append(' '.join(words[i:2+i]))\n",
    "    for i in range(len(words)-2):\n",
    "        all_words.append(' '.join(words[i:3+i]))\n",
    "    for i in range(len(words)-3):\n",
    "        all_words.append(' '.join(words[i:4+i]))\n",
    "    for i in range(len(words)-4):\n",
    "        all_words.append(' '.join(words[i:5+i]))\n",
    "    all_words = [elem.replace(\"'s\", \"\").replace(\"?\", \"\").replace(\".\", \"\").replace(\",\", \"\") for elem in all_words]\n",
    "\n",
    "    return all_words"
   ]
  },
  {
   "cell_type": "code",
   "execution_count": 137,
   "id": "4c81fba7-d3c7-4920-abfe-5ec15798726f",
   "metadata": {},
   "outputs": [
    {
     "name": "stderr",
     "output_type": "stream",
     "text": [
      "100%|██████████| 500/500 [00:00<00:00, 5622.93it/s]\n"
     ]
    }
   ],
   "source": [
    "for i in tqdm(range(len(data))):\n",
    "    \n",
    "    cur_ques  = data.loc[i, 'question_text']\n",
    "    all_collocs = all_collocations(cur_ques)\n",
    "    pops = []\n",
    "    for j in range(len(all_collocs)):\n",
    "        cur_key = all_collocs[j]\n",
    "        if cur_key in dict_collocations:\n",
    "            pops.append(dict_collocations[cur_key])\n",
    "    data.loc[i, 'frequency_inexact_all'] = str(pops)"
   ]
  },
  {
   "cell_type": "code",
   "execution_count": 139,
   "id": "2859e862-52b3-41bf-97b6-aa29d3737685",
   "metadata": {},
   "outputs": [],
   "source": [
    "data.to_csv(\"data/adaptive_rag_natural_questions/test.csv\", index = False)"
   ]
  }
 ],
 "metadata": {
  "kernelspec": {
   "display_name": "Python [conda env:.mlspace-adaptiverag]",
   "language": "python",
   "name": "conda-env-.mlspace-adaptiverag-py"
  },
  "language_info": {
   "codemirror_mode": {
    "name": "ipython",
    "version": 3
   },
   "file_extension": ".py",
   "mimetype": "text/x-python",
   "name": "python",
   "nbconvert_exporter": "python",
   "pygments_lexer": "ipython3",
   "version": "3.8.20"
  }
 },
 "nbformat": 4,
 "nbformat_minor": 5
}
